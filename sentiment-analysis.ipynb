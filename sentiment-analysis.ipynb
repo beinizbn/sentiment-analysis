{
 "cells": [
  {
   "cell_type": "code",
   "execution_count": 2,
   "metadata": {
    "collapsed": true
   },
   "outputs": [],
   "source": [
    "import numpy as np\n",
    "import pandas as pd\n",
    "import re\n",
    "import matplotlib.pyplot as plt\n",
    "from sklearn import linear_model\n",
    "from sklearn.model_selection import train_test_split\n",
    "from sklearn.linear_model import LogisticRegression\n",
    "from sklearn.metrics import classification_report\n",
    "from sklearn.metrics import confusion_matrix\n",
    "from sklearn.feature_extraction import text\n",
    "import html\n",
    "from sklearn.feature_extraction.text import TfidfVectorizer\n",
    "from sklearn.feature_extraction.text import CountVectorizer\n",
    "from sklearn.naive_bayes import MultinomialNB\n",
    "import nltk\n",
    "from nltk.corpus import stopwords\n",
    "import string\n",
    "from sklearn import metrics\n",
    "from nltk.tokenize import word_tokenize\n",
    "from nltk.tokenize import sent_tokenize\n",
    "from nltk.tokenize import TweetTokenizer\n",
    "from collections import Counter\n",
    "from sklearn.preprocessing import LabelEncoder\n",
    "from sklearn.preprocessing import OneHotEncoder\n",
    "from nltk.stem import PorterStemmer\n",
    "from matplotlib.dates import DateFormatter"
   ]
  },
  {
   "cell_type": "code",
   "execution_count": 3,
   "metadata": {
    "collapsed": true
   },
   "outputs": [],
   "source": [
    "np.set_printoptions(linewidth=100)"
   ]
  },
  {
   "cell_type": "markdown",
   "metadata": {},
   "source": [
    "# 1. Data Cleaning"
   ]
  },
  {
   "cell_type": "code",
   "execution_count": 4,
   "metadata": {
    "collapsed": true
   },
   "outputs": [],
   "source": [
    "#import the generic tweets\n",
    "tweets = pd.read_csv('generic_tweets.txt')"
   ]
  },
  {
   "cell_type": "code",
   "execution_count": 5,
   "metadata": {
    "collapsed": true
   },
   "outputs": [],
   "source": [
    "#caculate the length first for further exploratory data analysis\n",
    "tweets['length'] = tweets['text'].apply(len) \n",
    "#All URLs are removed.\n",
    "tweets['text'] = tweets['text'].str.replace(r'http\\S+|www.\\S+', '', case=False)\n",
    "#All characters in the text are in lowercase.\n",
    "tweets['text'] = tweets['text'].str.lower() \n",
    "#convert the date string to datetime format for further exploratory data analysis\n",
    "tweets['date'] = pd.to_datetime(tweets['date']) "
   ]
  },
  {
   "cell_type": "code",
   "execution_count": 1311,
   "metadata": {
    "collapsed": true
   },
   "outputs": [],
   "source": [
    "#set the dictionary for stopwords\n",
    "stop_words = nltk.corpus.stopwords.words('english')\n",
    "newStopWords = [\"i'm\", \"can't\", \"that's\",\"didn't\",\"thats\",\"he's\",\"you'd\", \"u\",\"i'd\",\"what's\", \"i've\", \"he'd\",\"we're\", \"how's\", \"i'll\"]\n",
    "stop_words.extend(newStopWords)\n",
    "#set the pattern for removing punctuations, all html tags and attributes\n",
    "pattern = '[-!.,?\\s;/:\\)\\(>+\\^\"\\[\\]]'"
   ]
  },
  {
   "cell_type": "code",
   "execution_count": 1312,
   "metadata": {},
   "outputs": [
    {
     "data": {
      "text/html": [
       "<div>\n",
       "<style scoped>\n",
       "    .dataframe tbody tr th:only-of-type {\n",
       "        vertical-align: middle;\n",
       "    }\n",
       "\n",
       "    .dataframe tbody tr th {\n",
       "        vertical-align: top;\n",
       "    }\n",
       "\n",
       "    .dataframe thead th {\n",
       "        text-align: right;\n",
       "    }\n",
       "</style>\n",
       "<table border=\"1\" class=\"dataframe\">\n",
       "  <thead>\n",
       "    <tr style=\"text-align: right;\">\n",
       "      <th></th>\n",
       "      <th>class</th>\n",
       "      <th>id</th>\n",
       "      <th>date</th>\n",
       "      <th>query</th>\n",
       "      <th>user</th>\n",
       "      <th>text</th>\n",
       "      <th>length</th>\n",
       "    </tr>\n",
       "  </thead>\n",
       "  <tbody>\n",
       "    <tr>\n",
       "      <th>0</th>\n",
       "      <td>0</td>\n",
       "      <td>1467810369</td>\n",
       "      <td>2009-04-06 22:19:45</td>\n",
       "      <td>NO_QUERY</td>\n",
       "      <td>_TheSpecialOne_</td>\n",
       "      <td>@switchfoot    awww  bummer   shoulda got david carr third day</td>\n",
       "      <td>115</td>\n",
       "    </tr>\n",
       "    <tr>\n",
       "      <th>1</th>\n",
       "      <td>0</td>\n",
       "      <td>1467810672</td>\n",
       "      <td>2009-04-06 22:19:49</td>\n",
       "      <td>NO_QUERY</td>\n",
       "      <td>scotthamilton</td>\n",
       "      <td>upset update facebook texting    might cry result  school today also  blah</td>\n",
       "      <td>111</td>\n",
       "    </tr>\n",
       "    <tr>\n",
       "      <th>2</th>\n",
       "      <td>0</td>\n",
       "      <td>1467810917</td>\n",
       "      <td>2009-04-06 22:19:53</td>\n",
       "      <td>NO_QUERY</td>\n",
       "      <td>mattycus</td>\n",
       "      <td>@kenichan dived many times ball  managed save 50%  rest go bounds</td>\n",
       "      <td>89</td>\n",
       "    </tr>\n",
       "    <tr>\n",
       "      <th>3</th>\n",
       "      <td>0</td>\n",
       "      <td>1467811184</td>\n",
       "      <td>2009-04-06 22:19:57</td>\n",
       "      <td>NO_QUERY</td>\n",
       "      <td>ElleCTF</td>\n",
       "      <td>whole body feels itchy like fire</td>\n",
       "      <td>47</td>\n",
       "    </tr>\n",
       "    <tr>\n",
       "      <th>4</th>\n",
       "      <td>0</td>\n",
       "      <td>1467811193</td>\n",
       "      <td>2009-04-06 22:19:57</td>\n",
       "      <td>NO_QUERY</td>\n",
       "      <td>Karoli</td>\n",
       "      <td>@nationwideclass  behaving  mad   see</td>\n",
       "      <td>111</td>\n",
       "    </tr>\n",
       "    <tr>\n",
       "      <th>5</th>\n",
       "      <td>0</td>\n",
       "      <td>1467811372</td>\n",
       "      <td>2009-04-06 22:20:00</td>\n",
       "      <td>NO_QUERY</td>\n",
       "      <td>joy_wolf</td>\n",
       "      <td>@kwesidei whole crew</td>\n",
       "      <td>29</td>\n",
       "    </tr>\n",
       "    <tr>\n",
       "      <th>6</th>\n",
       "      <td>0</td>\n",
       "      <td>1467811592</td>\n",
       "      <td>2009-04-06 22:20:03</td>\n",
       "      <td>NO_QUERY</td>\n",
       "      <td>mybirch</td>\n",
       "      <td>need hug</td>\n",
       "      <td>11</td>\n",
       "    </tr>\n",
       "    <tr>\n",
       "      <th>7</th>\n",
       "      <td>0</td>\n",
       "      <td>1467811594</td>\n",
       "      <td>2009-04-06 22:20:03</td>\n",
       "      <td>NO_QUERY</td>\n",
       "      <td>coZZ</td>\n",
       "      <td>@loltrish hey  long time see  yes   rains bit  bit  lol   fine thanks</td>\n",
       "      <td>99</td>\n",
       "    </tr>\n",
       "    <tr>\n",
       "      <th>8</th>\n",
       "      <td>0</td>\n",
       "      <td>1467811795</td>\n",
       "      <td>2009-04-06 22:20:05</td>\n",
       "      <td>NO_QUERY</td>\n",
       "      <td>2Hood4Hollywood</td>\n",
       "      <td>@tatiana_k nope</td>\n",
       "      <td>36</td>\n",
       "    </tr>\n",
       "    <tr>\n",
       "      <th>9</th>\n",
       "      <td>0</td>\n",
       "      <td>1467812025</td>\n",
       "      <td>2009-04-06 22:20:09</td>\n",
       "      <td>NO_QUERY</td>\n",
       "      <td>mimismo</td>\n",
       "      <td>@twittera que muera</td>\n",
       "      <td>25</td>\n",
       "    </tr>\n",
       "  </tbody>\n",
       "</table>\n",
       "</div>"
      ],
      "text/plain": [
       "   class          id                date     query             user                                                                         text  length\n",
       "0  0      1467810369 2009-04-06 22:19:45  NO_QUERY  _TheSpecialOne_  @switchfoot    awww  bummer   shoulda got david carr third day               115   \n",
       "1  0      1467810672 2009-04-06 22:19:49  NO_QUERY  scotthamilton    upset update facebook texting    might cry result  school today also  blah   111   \n",
       "2  0      1467810917 2009-04-06 22:19:53  NO_QUERY  mattycus         @kenichan dived many times ball  managed save 50%  rest go bounds            89    \n",
       "3  0      1467811184 2009-04-06 22:19:57  NO_QUERY  ElleCTF          whole body feels itchy like fire                                             47    \n",
       "4  0      1467811193 2009-04-06 22:19:57  NO_QUERY  Karoli           @nationwideclass  behaving  mad   see                                        111   \n",
       "5  0      1467811372 2009-04-06 22:20:00  NO_QUERY  joy_wolf         @kwesidei whole crew                                                         29    \n",
       "6  0      1467811592 2009-04-06 22:20:03  NO_QUERY  mybirch          need hug                                                                     11    \n",
       "7  0      1467811594 2009-04-06 22:20:03  NO_QUERY  coZZ             @loltrish hey  long time see  yes   rains bit  bit  lol   fine thanks        99    \n",
       "8  0      1467811795 2009-04-06 22:20:05  NO_QUERY  2Hood4Hollywood  @tatiana_k nope                                                              36    \n",
       "9  0      1467812025 2009-04-06 22:20:09  NO_QUERY  mimismo          @twittera que muera                                                          25    "
      ]
     },
     "execution_count": 1312,
     "metadata": {},
     "output_type": "execute_result"
    }
   ],
   "source": [
    "#All html characters are replaced.\n",
    "tweets['text'] = tweets['text'].apply(lambda x: html.unescape(x))\n",
    "#All stop words are removed.\n",
    "tweets['text'] = tweets['text'].apply(lambda x: ' '.join([word for word in re.split(pattern,x) if word not in (stop_words)]))\n",
    "tweets.head(10)"
   ]
  },
  {
   "cell_type": "code",
   "execution_count": 1313,
   "metadata": {},
   "outputs": [
    {
     "data": {
      "text/html": [
       "<div>\n",
       "<style scoped>\n",
       "    .dataframe tbody tr th:only-of-type {\n",
       "        vertical-align: middle;\n",
       "    }\n",
       "\n",
       "    .dataframe tbody tr th {\n",
       "        vertical-align: top;\n",
       "    }\n",
       "\n",
       "    .dataframe thead th {\n",
       "        text-align: right;\n",
       "    }\n",
       "</style>\n",
       "<table border=\"1\" class=\"dataframe\">\n",
       "  <thead>\n",
       "    <tr style=\"text-align: right;\">\n",
       "      <th></th>\n",
       "      <th>sentiment</th>\n",
       "      <th>negative_reason</th>\n",
       "      <th>text</th>\n",
       "    </tr>\n",
       "  </thead>\n",
       "  <tbody>\n",
       "    <tr>\n",
       "      <th>0</th>\n",
       "      <td>positive</td>\n",
       "      <td>NaN</td>\n",
       "      <td>@virginamerica plus added commercials experience    tacky</td>\n",
       "    </tr>\n",
       "    <tr>\n",
       "      <th>1</th>\n",
       "      <td>negative</td>\n",
       "      <td>Bad Flight</td>\n",
       "      <td>@virginamerica really aggressive blast obnoxious  entertainment  guests' faces &amp; little recourse</td>\n",
       "    </tr>\n",
       "    <tr>\n",
       "      <th>2</th>\n",
       "      <td>negative</td>\n",
       "      <td>Can't Tell</td>\n",
       "      <td>@virginamerica really big bad thing</td>\n",
       "    </tr>\n",
       "    <tr>\n",
       "      <th>3</th>\n",
       "      <td>negative</td>\n",
       "      <td>Can't Tell</td>\n",
       "      <td>@virginamerica seriously would pay $30 flight seats playing  really bad thing flying va</td>\n",
       "    </tr>\n",
       "    <tr>\n",
       "      <th>4</th>\n",
       "      <td>positive</td>\n",
       "      <td>NaN</td>\n",
       "      <td>@virginamerica yes  nearly every time fly vx ear worm wont go away</td>\n",
       "    </tr>\n",
       "  </tbody>\n",
       "</table>\n",
       "</div>"
      ],
      "text/plain": [
       "  sentiment negative_reason                                                                                              text\n",
       "0  positive  NaN             @virginamerica plus added commercials experience    tacky                                       \n",
       "1  negative  Bad Flight      @virginamerica really aggressive blast obnoxious  entertainment  guests' faces & little recourse\n",
       "2  negative  Can't Tell      @virginamerica really big bad thing                                                             \n",
       "3  negative  Can't Tell      @virginamerica seriously would pay $30 flight seats playing  really bad thing flying va         \n",
       "4  positive  NaN             @virginamerica yes  nearly every time fly vx ear worm wont go away                              "
      ]
     },
     "execution_count": 1313,
     "metadata": {},
     "output_type": "execute_result"
    }
   ],
   "source": [
    "#data cleaning for the airline dataset\n",
    "airline_tweets = pd.read_csv('US_airline_tweets.csv')\n",
    "#delete the unneeded columns\n",
    "airline_tweets = airline_tweets.drop(['id','user','retweet_count'], axis = 1)\n",
    "airline_tweets['text'] = airline_tweets['text'].str.replace('http\\S+|www.\\S+', '', case=False) #All URLs are removed.\n",
    "airline_tweets['text'] = airline_tweets['text'].apply(lambda x: html.unescape(x))#All html characters are replaced.\n",
    "airline_tweets['text'] = airline_tweets['text'].str.lower()#All characters in the text are in lowercase.\n",
    "airline_tweets['text'] = airline_tweets['text'].apply(lambda x: ' '.join([word for word in re.split(pattern,x) if word not in (stop_words)]))\n",
    "#remove all the non-ASCII characters\n",
    "airline_tweets['text'] = airline_tweets['text'].replace({r'[^\\x00-\\x7F]+':''}, regex=True)\n",
    "airline_tweets.head()"
   ]
  },
  {
   "cell_type": "markdown",
   "metadata": {},
   "source": [
    "# 2. Exploratory analysis"
   ]
  },
  {
   "cell_type": "code",
   "execution_count": 1,
   "metadata": {},
   "outputs": [
    {
     "ename": "NameError",
     "evalue": "name 'airline_tweets' is not defined",
     "output_type": "error",
     "traceback": [
      "\u001b[0;31m---------------------------------------------------------------------------\u001b[0m",
      "\u001b[0;31mNameError\u001b[0m                                 Traceback (most recent call last)",
      "\u001b[0;32m<ipython-input-1-811c40b61014>\u001b[0m in \u001b[0;36m<module>\u001b[0;34m()\u001b[0m\n\u001b[1;32m      1\u001b[0m \u001b[0;31m#count the number of times an airline appears in a tweet\u001b[0m\u001b[0;34m\u001b[0m\u001b[0;34m\u001b[0m\u001b[0m\n\u001b[0;32m----> 2\u001b[0;31m \u001b[0mamericanair\u001b[0m \u001b[0;34m=\u001b[0m \u001b[0mairline_tweets\u001b[0m\u001b[0;34m[\u001b[0m\u001b[0mairline_tweets\u001b[0m\u001b[0;34m[\u001b[0m\u001b[0;34m'text'\u001b[0m\u001b[0;34m]\u001b[0m\u001b[0;34m.\u001b[0m\u001b[0mstr\u001b[0m\u001b[0;34m.\u001b[0m\u001b[0mcontains\u001b[0m\u001b[0;34m(\u001b[0m\u001b[0;34m'@americanair'\u001b[0m\u001b[0;34m)\u001b[0m\u001b[0;34m]\u001b[0m\u001b[0;34m\u001b[0m\u001b[0m\n\u001b[0m\u001b[1;32m      3\u001b[0m \u001b[0mamericanair_count\u001b[0m \u001b[0;34m=\u001b[0m \u001b[0mlen\u001b[0m\u001b[0;34m(\u001b[0m\u001b[0mamericanair\u001b[0m\u001b[0;34m)\u001b[0m\u001b[0;34m\u001b[0m\u001b[0m\n\u001b[1;32m      4\u001b[0m \u001b[0mvirginamerica\u001b[0m \u001b[0;34m=\u001b[0m \u001b[0mairline_tweets\u001b[0m\u001b[0;34m[\u001b[0m\u001b[0mairline_tweets\u001b[0m\u001b[0;34m[\u001b[0m\u001b[0;34m'text'\u001b[0m\u001b[0;34m]\u001b[0m\u001b[0;34m.\u001b[0m\u001b[0mstr\u001b[0m\u001b[0;34m.\u001b[0m\u001b[0mcontains\u001b[0m\u001b[0;34m(\u001b[0m\u001b[0;34m'@virginamerica'\u001b[0m\u001b[0;34m)\u001b[0m\u001b[0;34m]\u001b[0m\u001b[0;34m\u001b[0m\u001b[0m\n\u001b[1;32m      5\u001b[0m \u001b[0mvirginamerica_count\u001b[0m \u001b[0;34m=\u001b[0m \u001b[0mlen\u001b[0m\u001b[0;34m(\u001b[0m\u001b[0mvirginamerica\u001b[0m\u001b[0;34m)\u001b[0m\u001b[0;34m\u001b[0m\u001b[0m\n",
      "\u001b[0;31mNameError\u001b[0m: name 'airline_tweets' is not defined"
     ]
    }
   ],
   "source": [
    "#count the number of times an airline appears in a tweet \n",
    "americanair = airline_tweets[airline_tweets['text'].str.contains('@americanair')]\n",
    "americanair_count = len(americanair)\n",
    "virginamerica = airline_tweets[airline_tweets['text'].str.contains('@virginamerica')]\n",
    "virginamerica_count = len(virginamerica)\n",
    "united = airline_tweets[airline_tweets['text'].str.contains('@united')]\n",
    "united_count = len(united)\n",
    "southwestair = airline_tweets[airline_tweets['text'].str.contains('@southwestair')]\n",
    "southwestair_count = len(southwestair)\n",
    "jetblue = airline_tweets[airline_tweets['text'].str.contains('@jetblue')]\n",
    "jetblue_count = len(jetblue)\n",
    "usairways = airline_tweets[airline_tweets['text'].str.contains('@usairways')]\n",
    "usairways_count = len(usairways)\n",
    "delta = airline_tweets[airline_tweets['text'].str.contains('@delta')]\n",
    "delta_count = len(delta)\n",
    "objects = ('VirginAmerica','united','AmericanAir', 'SouthwestAir', 'JetBlue','USAirways', 'Delta' )\n",
    "y = [virginamerica_count, united_count, americanair_count, southwestair_count, jetblue_count, usairways_count, delta_count]\n",
    "fig, ax = plt.subplots(figsize=(10, 5)) \n",
    "airline_indicator = np.arange(len(objects))\n",
    "plt.bar(airline_indicator,[virginamerica_count, united_count, americanair_count, southwestair_count, jetblue_count, usairways_count, delta_count])\n",
    "plt.xticks(airline_indicator, objects)\n",
    "plt.title(\"Figure 2.1 The distribution of the US airlines of the tweets\")\n",
    "ax.set_ylabel(\"Tweets Count\")\n",
    "ax.set_xlabel(\"Airlines\")\n",
    "for v, i in enumerate(y):\n",
    "    ax.text( v, i, str(i), color='black', fontweight='bold')\n",
    "plt.show()"
   ]
  },
  {
   "cell_type": "code",
   "execution_count": 1315,
   "metadata": {},
   "outputs": [
    {
     "data": {
      "image/png": "[encoded data removed]",
      "text/plain": [
       "<Figure size 720x360 with 1 Axes>"
      ]
     },
     "metadata": {},
     "output_type": "display_data"
    }
   ],
   "source": [
    "#Calculate the percentage of postive tweets of US airlines\n",
    "americanair_N = len(americanair[americanair['sentiment'] == 'negative'])\n",
    "americanair_P = len(americanair[americanair['sentiment'] == 'positive'])\n",
    "virginamerica_N = len(virginamerica[virginamerica['sentiment'] == 'negative'])\n",
    "virginamerica_P = len(virginamerica[virginamerica['sentiment'] == 'positive'])\n",
    "united_N = len(united[united['sentiment'] == 'negative'])\n",
    "united_P = len(united[united['sentiment'] == 'positive'])\n",
    "southwestair_N = len(southwestair[southwestair['sentiment'] == 'negative'])\n",
    "southwestair_P = len(southwestair[southwestair['sentiment'] == 'positive'])\n",
    "jetblue_N = len(jetblue[jetblue['sentiment'] == 'negative'])\n",
    "jetblue_P = len(jetblue[jetblue['sentiment'] == 'positive'])\n",
    "usairways_N = len(usairways[usairways['sentiment'] == 'negative'])\n",
    "usairways_P = len(usairways[usairways['sentiment'] == 'positive'])\n",
    "delta_N = len(delta[delta['sentiment'] == 'negative'])\n",
    "delta_P = len(delta[delta['sentiment'] == 'positive'])\n",
    "fig, ax1 = plt.subplots(figsize=(10, 5))\n",
    "airline_indicator = np.arange(len(objects))\n",
    "objects = ('VirginAmerica','united','AmericanAir', 'SouthwestAir', 'JetBlue','USAirways', 'Delta' )\n",
    "y = [virginamerica_N, united_N, americanair_N, southwestair_N, jetblue_N, usairways_N, delta_N]\n",
    "x = [virginamerica_P, united_P, americanair_P, southwestair_P, jetblue_P, usairways_P , delta_P]\n",
    "width = 0.35\n",
    "p1 = plt.bar(airline_indicator, y, width, color='#d62728')\n",
    "p2 = plt.bar(airline_indicator, x, width, bottom=y)\n",
    "ax1.set_ylabel('Tweets Count')\n",
    "ax1.set_ylabel('Airlines')\n",
    "ax1.set_title('Figure 2.2 Negative/Positive Reviews by Airlines')\n",
    "plt.xticks(airline_indicator, objects)\n",
    "plt.legend((p1[0], p2[0]), ('Negative','Positive'))\n",
    "plt.show()"
   ]
  },
  {
   "cell_type": "code",
   "execution_count": 1316,
   "metadata": {},
   "outputs": [
    {
     "data": {
      "image/png": "[encoded data removed]",
      "text/plain": [
       "<Figure size 720x360 with 1 Axes>"
      ]
     },
     "metadata": {},
     "output_type": "display_data"
    }
   ],
   "source": [
    "airline_tweets_negative = airline_tweets[airline_tweets['sentiment']=='negative']\n",
    "airline_tweets_nreason = airline_tweets_negative.groupby(['negative_reason']).count()['sentiment']\n",
    "labels = airline_tweets_nreason.index.tolist()\n",
    "percentage = airline_tweets_nreason.tolist()\n",
    "#visualize the percentage of different negative reasons for all the airlines\n",
    "fig1, ax1 = plt.subplots(figsize = (10, 5))\n",
    "ax1.pie(percentage, labels=labels, autopct='%1.1f%%', startangle=90)\n",
    "#centre_circle = plt.Circle((0,0),0.70,fc='white')\n",
    "#fig = plt.gcf()\n",
    "#fig.gca().add_artist(centre_circle)\n",
    "ax1.set_title('Figure 2.3. Distribution of Negative Reasons for Airlines')\n",
    "ax1.axis('equal')  \n",
    "ttl = ax1.title\n",
    "ttl.set_position([.5, 1.05])\n",
    "plt.tight_layout()\n",
    "plt.show()"
   ]
  },
  {
   "cell_type": "code",
   "execution_count": 1317,
   "metadata": {},
   "outputs": [
    {
     "data": {
      "image/png": "[encoded data removed]",
      "text/plain": [
       "<Figure size 504x216 with 1 Axes>"
      ]
     },
     "metadata": {},
     "output_type": "display_data"
    }
   ],
   "source": [
    "#potential bonus: Analysis of numbers of tweets posted at different times of the day\n",
    "#Extract the data information\n",
    "tweets_05_03 = tweets.loc[(tweets['date'] >= '2009-05-03') & (tweets['date'] < '2009-05-04')]\n",
    "tweets_05_03 = tweets_05_03.set_index('date')\n",
    "#resample the data into 2-hour interval\n",
    "tweets_hourly_counts = tweets_05_03.resample('2H').count()['id']\n",
    "fig, ax = plt.subplots(figsize=(7,3))\n",
    "tweets_hourly_counts.plot(kind = 'bar')\n",
    "ax.set_title('Figure 2.4 Number of Tweets Posted Throughout the Day (2009-05-03)')\n",
    "ax.set_xlabel('Hours in a Day')\n",
    "ax.set_ylabel('Tweets Count')\n",
    "plt.xticks(rotation=60)\n",
    "plt.show()"
   ]
  },
  {
   "cell_type": "markdown",
   "metadata": {},
   "source": [
    "#### Although it seems that some data was missing, we can see most of the tweets were posted during evening time and early morning."
   ]
  },
  {
   "cell_type": "code",
   "execution_count": 1318,
   "metadata": {},
   "outputs": [
    {
     "data": {
      "image/png": "[encoded data removed]",
      "text/plain": [
       "<Figure size 432x288 with 1 Axes>"
      ]
     },
     "metadata": {},
     "output_type": "display_data"
    }
   ],
   "source": [
    "#Exploratory analysis: tweets length distribution\n",
    "ax2 = tweets['length'].hist()\n",
    "ax2.set_title('Figure 2.5 Tweets Length Distribution')\n",
    "ax2.set_xlabel('Length of Tweets')\n",
    "ax2.set_ylabel('Frequency')\n",
    "plt.show()"
   ]
  },
  {
   "cell_type": "markdown",
   "metadata": {},
   "source": [
    "# 3. Model Preparation"
   ]
  },
  {
   "cell_type": "code",
   "execution_count": 1319,
   "metadata": {
    "collapsed": true
   },
   "outputs": [],
   "source": [
    "def class_to_sentiment(score):\n",
    "    '''\n",
    "    convert the class number into binary sentiment value\n",
    "    '''\n",
    "    if score==4:\n",
    "        return 1\n",
    "    else:\n",
    "        return 0"
   ]
  },
  {
   "cell_type": "code",
   "execution_count": 1320,
   "metadata": {
    "collapsed": true
   },
   "outputs": [],
   "source": [
    "tweets['sentiment'] = tweets['class'].apply(class_to_sentiment)"
   ]
  },
  {
   "cell_type": "code",
   "execution_count": 1321,
   "metadata": {},
   "outputs": [
    {
     "data": {
      "text/html": [
       "<div>\n",
       "<style scoped>\n",
       "    .dataframe tbody tr th:only-of-type {\n",
       "        vertical-align: middle;\n",
       "    }\n",
       "\n",
       "    .dataframe tbody tr th {\n",
       "        vertical-align: top;\n",
       "    }\n",
       "\n",
       "    .dataframe thead th {\n",
       "        text-align: right;\n",
       "    }\n",
       "</style>\n",
       "<table border=\"1\" class=\"dataframe\">\n",
       "  <thead>\n",
       "    <tr style=\"text-align: right;\">\n",
       "      <th></th>\n",
       "      <th>class</th>\n",
       "      <th>id</th>\n",
       "      <th>date</th>\n",
       "      <th>query</th>\n",
       "      <th>user</th>\n",
       "      <th>text</th>\n",
       "      <th>length</th>\n",
       "      <th>sentiment</th>\n",
       "    </tr>\n",
       "  </thead>\n",
       "  <tbody>\n",
       "    <tr>\n",
       "      <th>199995</th>\n",
       "      <td>4</td>\n",
       "      <td>1693956088</td>\n",
       "      <td>2009-05-04 00:27:13</td>\n",
       "      <td>NO_QUERY</td>\n",
       "      <td>FelineBred</td>\n",
       "      <td>@jvdouglas  haha   remark maternity leave fired little</td>\n",
       "      <td>73</td>\n",
       "      <td>1</td>\n",
       "    </tr>\n",
       "    <tr>\n",
       "      <th>199996</th>\n",
       "      <td>4</td>\n",
       "      <td>1693956096</td>\n",
       "      <td>2009-05-04 00:27:14</td>\n",
       "      <td>NO_QUERY</td>\n",
       "      <td>softthistle</td>\n",
       "      <td>@altitis</td>\n",
       "      <td>21</td>\n",
       "      <td>1</td>\n",
       "    </tr>\n",
       "    <tr>\n",
       "      <th>199997</th>\n",
       "      <td>4</td>\n",
       "      <td>1693956099</td>\n",
       "      <td>2009-05-04 00:27:14</td>\n",
       "      <td>NO_QUERY</td>\n",
       "      <td>elysion32</td>\n",
       "      <td>okie doke   time escape north massa's back turned  get home folks</td>\n",
       "      <td>106</td>\n",
       "      <td>1</td>\n",
       "    </tr>\n",
       "    <tr>\n",
       "      <th>199998</th>\n",
       "      <td>4</td>\n",
       "      <td>1693956134</td>\n",
       "      <td>2009-05-04 00:27:14</td>\n",
       "      <td>NO_QUERY</td>\n",
       "      <td>fancyjessy</td>\n",
       "      <td>finished lessons  hooray</td>\n",
       "      <td>30</td>\n",
       "      <td>1</td>\n",
       "    </tr>\n",
       "    <tr>\n",
       "      <th>199999</th>\n",
       "      <td>4</td>\n",
       "      <td>1693956160</td>\n",
       "      <td>2009-05-04 00:27:14</td>\n",
       "      <td>NO_QUERY</td>\n",
       "      <td>noraezan</td>\n",
       "      <td>ppl fucking kp0  cb   stop asking laa   love boyfriend</td>\n",
       "      <td>91</td>\n",
       "      <td>1</td>\n",
       "    </tr>\n",
       "  </tbody>\n",
       "</table>\n",
       "</div>"
      ],
      "text/plain": [
       "        class          id                date     query         user                                                                text  length  sentiment\n",
       "199995  4      1693956088 2009-05-04 00:27:13  NO_QUERY  FelineBred   @jvdouglas  haha   remark maternity leave fired little              73      1        \n",
       "199996  4      1693956096 2009-05-04 00:27:14  NO_QUERY  softthistle  @altitis                                                            21      1        \n",
       "199997  4      1693956099 2009-05-04 00:27:14  NO_QUERY  elysion32    okie doke   time escape north massa's back turned  get home folks   106     1        \n",
       "199998  4      1693956134 2009-05-04 00:27:14  NO_QUERY  fancyjessy   finished lessons  hooray                                            30      1        \n",
       "199999  4      1693956160 2009-05-04 00:27:14  NO_QUERY  noraezan     ppl fucking kp0  cb   stop asking laa   love boyfriend              91      1        "
      ]
     },
     "execution_count": 1321,
     "metadata": {},
     "output_type": "execute_result"
    }
   ],
   "source": [
    "tweets.tail()"
   ]
  },
  {
   "cell_type": "code",
   "execution_count": 1322,
   "metadata": {
    "collapsed": true
   },
   "outputs": [],
   "source": [
    "#Split the generic tweets randomly into training data (70%) and test data (30%).\n",
    "X = tweets['text']\n",
    "y = tweets['sentiment']\n",
    "X_train, X_test, y_train, y_test = train_test_split(X, y, test_size = 0.3, random_state = 21)"
   ]
  },
  {
   "cell_type": "code",
   "execution_count": 1323,
   "metadata": {
    "collapsed": true
   },
   "outputs": [],
   "source": [
    "#Convert the text to a matrix of token counts using TfidfVectorizer \n",
    "tfidf_vectorizer = TfidfVectorizer()\n",
    "tfidf_train = tfidf_vectorizer.fit_transform(X_train.values)\n",
    "tfidf_test = tfidf_vectorizer.transform(X_test.values)\n",
    "#Convert the text to a matrix of token counts using CountVectorizer for comparison\n",
    "count_vectorizer = CountVectorizer(stop_words = 'english')\n",
    "count_train = count_vectorizer.fit_transform(X_train.values)\n",
    "count_test = count_vectorizer.transform(X_test.values)"
   ]
  },
  {
   "cell_type": "code",
   "execution_count": 1324,
   "metadata": {},
   "outputs": [
    {
     "name": "stdout",
     "output_type": "stream",
     "text": [
      "Logistic Regression training accuracy using TfidfVectorizer: 0.832028571429\n",
      "Logistic Regression test accuracy using TfidfVectorizer    : 0.76875\n",
      "[[22593  7478]\n",
      " [ 6397 23532]]\n",
      "             precision    recall  f1-score   support\n",
      "\n",
      "          0       0.78      0.75      0.77     30071\n",
      "          1       0.76      0.79      0.77     29929\n",
      "\n",
      "avg / total       0.77      0.77      0.77     60000\n",
      "\n"
     ]
    }
   ],
   "source": [
    "#Train a logistic regression model\n",
    "lr = LogisticRegression()\n",
    "lr.fit(tfidf_train, y_train)\n",
    "y_pred_lr = lr.predict(tfidf_test)\n",
    "print(\"Logistic Regression training accuracy using TfidfVectorizer:\", lr.score(tfidf_train, y_train))\n",
    "print(\"Logistic Regression test accuracy using TfidfVectorizer    :\", lr.score(tfidf_test, y_test))\n",
    "print(confusion_matrix(y_test, y_pred_lr))\n",
    "print(classification_report(y_test, y_pred_lr))"
   ]
  },
  {
   "cell_type": "code",
   "execution_count": 1325,
   "metadata": {},
   "outputs": [
    {
     "name": "stdout",
     "output_type": "stream",
     "text": [
      "Logistic Regression training accuracy using CountVectorizer: 0.870064285714\n",
      "Logistic Regression test accuracy using CountVectorizer    : 0.757216666667\n"
     ]
    }
   ],
   "source": [
    "lr1 = LogisticRegression()\n",
    "lr1.fit(count_train, y_train)\n",
    "print(\"Logistic Regression training accuracy using CountVectorizer:\", lr1.score(count_train, y_train))\n",
    "print(\"Logistic Regression test accuracy using CountVectorizer    :\", lr1.score(count_test, y_test))"
   ]
  },
  {
   "cell_type": "code",
   "execution_count": 1326,
   "metadata": {},
   "outputs": [
    {
     "name": "stdout",
     "output_type": "stream",
     "text": [
      "Naive Bayes training accuracy using TfidfVectorizer: 0.860357142857\n",
      "Naive Bayes test accuracy using TfidfVectorizer   : 0.752066666667\n",
      "[[23868  6203]\n",
      " [ 8673 21256]]\n",
      "             precision    recall  f1-score   support\n",
      "\n",
      "          0       0.73      0.79      0.76     30071\n",
      "          1       0.77      0.71      0.74     29929\n",
      "\n",
      "avg / total       0.75      0.75      0.75     60000\n",
      "\n"
     ]
    }
   ],
   "source": [
    "#Train a Naive Bayes model for comparison\n",
    "nb = MultinomialNB()\n",
    "nb.fit(tfidf_train, y_train)\n",
    "y_pred_nb = nb.predict(tfidf_test)\n",
    "print(\"Naive Bayes training accuracy using TfidfVectorizer:\", nb.score(tfidf_train, y_train))\n",
    "print(\"Naive Bayes test accuracy using TfidfVectorizer   :\", nb.score(tfidf_test, y_test))\n",
    "print(confusion_matrix(y_test, y_pred_nb))\n",
    "print(classification_report(y_test, y_pred_nb))"
   ]
  },
  {
   "cell_type": "markdown",
   "metadata": {},
   "source": [
    "##### As can be seen from the accuracy score above, there is no significant difference between the TfidfVectorizer and the CountVectorizer for the binary classification problem for this specific dataset. "
   ]
  },
  {
   "cell_type": "markdown",
   "metadata": {},
   "source": [
    "# 4. Model implementation"
   ]
  },
  {
   "cell_type": "code",
   "execution_count": 1327,
   "metadata": {
    "collapsed": true
   },
   "outputs": [],
   "source": [
    "def convert_to_numsentiment(score):\n",
    "    \"\"\"\n",
    "    turn the sentiment into binary numeric value\n",
    "    \"\"\"\n",
    "    if score == 'positive':\n",
    "        return 1\n",
    "    else:\n",
    "        return 0"
   ]
  },
  {
   "cell_type": "code",
   "execution_count": 1328,
   "metadata": {
    "collapsed": true
   },
   "outputs": [],
   "source": [
    "def convert_to_sentiment(score):\n",
    "    if score>=0:\n",
    "        return 1\n",
    "    else:\n",
    "        return 0"
   ]
  },
  {
   "cell_type": "code",
   "execution_count": 1329,
   "metadata": {},
   "outputs": [
    {
     "name": "stdout",
     "output_type": "stream",
     "text": [
      "US Airlines Dataset Accuracy Score using Logistic Regression: 0.762758859718\n",
      "US Airlines Dataset Accuracy Score using Naive Bayes        : 0.797417901395\n"
     ]
    }
   ],
   "source": [
    "#Evaluate the model on the airline tweets\n",
    "X1 = airline_tweets['text']\n",
    "tfidf_train1 = tfidf_vectorizer.transform(X1.values)\n",
    "airline_tweets['sentiment_pred_s_lr'] = lr.predict(tfidf_train1)\n",
    "airline_tweets['sentiment_pred_s_nb'] = nb.predict(tfidf_train1)\n",
    "airline_tweets['sentiment_s'] = airline_tweets['sentiment'].apply(convert_to_numsentiment)\n",
    "airline_tweets.head()\n",
    "score_lr = metrics.accuracy_score(airline_tweets['sentiment_s'], airline_tweets['sentiment_pred_s_lr'])\n",
    "score_nb = metrics.accuracy_score(airline_tweets['sentiment_s'], airline_tweets['sentiment_pred_s_nb'])\n",
    "print(\"US Airlines Dataset Accuracy Score using Logistic Regression:\", score_lr)\n",
    "print(\"US Airlines Dataset Accuracy Score using Naive Bayes        :\", score_nb)"
   ]
  },
  {
   "cell_type": "markdown",
   "metadata": {},
   "source": [
    "##### The accuracy score is high enough, even slightly higher than the accuracy score of the test dataset for the generic tweets. The reason may be the shrink of the size of the features inside the datasets."
   ]
  },
  {
   "cell_type": "markdown",
   "metadata": {},
   "source": [
    "# Question 4 - Multiclass Classification"
   ]
  },
  {
   "cell_type": "code",
   "execution_count": 1330,
   "metadata": {
    "collapsed": true
   },
   "outputs": [],
   "source": [
    "#extract the negative US airlines tweets\n",
    "airline_tweets_negative = airline_tweets[airline_tweets['sentiment']=='negative']\n",
    "airline_tweets_nreason = airline_tweets_negative.groupby(['negative_reason']).count()['sentiment']\n",
    "labels = airline_tweets_nreason.index.tolist()\n",
    "percentage = airline_tweets_nreason.tolist()"
   ]
  },
  {
   "cell_type": "code",
   "execution_count": 1331,
   "metadata": {},
   "outputs": [
    {
     "name": "stderr",
     "output_type": "stream",
     "text": [
      "/Users/zhangbeini/anaconda/lib/python3.6/site-packages/ipykernel_launcher.py:3: SettingWithCopyWarning: \n",
      "A value is trying to be set on a copy of a slice from a DataFrame.\n",
      "Try using .loc[row_indexer,col_indexer] = value instead\n",
      "\n",
      "See the caveats in the documentation: http://pandas.pydata.org/pandas-docs/stable/indexing.html#indexing-view-versus-copy\n",
      "  This is separate from the ipykernel package so we can avoid doing imports until\n",
      "/Users/zhangbeini/anaconda/lib/python3.6/site-packages/ipykernel_launcher.py:4: SettingWithCopyWarning: \n",
      "A value is trying to be set on a copy of a slice from a DataFrame.\n",
      "Try using .loc[row_indexer,col_indexer] = value instead\n",
      "\n",
      "See the caveats in the documentation: http://pandas.pydata.org/pandas-docs/stable/indexing.html#indexing-view-versus-copy\n",
      "  after removing the cwd from sys.path.\n",
      "/Users/zhangbeini/anaconda/lib/python3.6/site-packages/ipykernel_launcher.py:6: SettingWithCopyWarning: \n",
      "A value is trying to be set on a copy of a slice from a DataFrame.\n",
      "Try using .loc[row_indexer,col_indexer] = value instead\n",
      "\n",
      "See the caveats in the documentation: http://pandas.pydata.org/pandas-docs/stable/indexing.html#indexing-view-versus-copy\n",
      "  \n",
      "/Users/zhangbeini/anaconda/lib/python3.6/site-packages/ipykernel_launcher.py:7: SettingWithCopyWarning: \n",
      "A value is trying to be set on a copy of a slice from a DataFrame.\n",
      "Try using .loc[row_indexer,col_indexer] = value instead\n",
      "\n",
      "See the caveats in the documentation: http://pandas.pydata.org/pandas-docs/stable/indexing.html#indexing-view-versus-copy\n",
      "  import sys\n",
      "/Users/zhangbeini/anaconda/lib/python3.6/site-packages/ipykernel_launcher.py:8: SettingWithCopyWarning: \n",
      "A value is trying to be set on a copy of a slice from a DataFrame.\n",
      "Try using .loc[row_indexer,col_indexer] = value instead\n",
      "\n",
      "See the caveats in the documentation: http://pandas.pydata.org/pandas-docs/stable/indexing.html#indexing-view-versus-copy\n",
      "  \n",
      "/Users/zhangbeini/anaconda/lib/python3.6/site-packages/ipykernel_launcher.py:13: SettingWithCopyWarning: \n",
      "A value is trying to be set on a copy of a slice from a DataFrame.\n",
      "Try using .loc[row_indexer,col_indexer] = value instead\n",
      "\n",
      "See the caveats in the documentation: http://pandas.pydata.org/pandas-docs/stable/indexing.html#indexing-view-versus-copy\n",
      "  del sys.path[0]\n"
     ]
    },
    {
     "data": {
      "text/plain": [
       "{\"Can't Tell\": 0,\n",
       " 'Customer Service Issue': 1,\n",
       " 'Flight Attendant Complaints': 2,\n",
       " 'Flight Booking Problems': 3,\n",
       " 'Flight_Problem': 4,\n",
       " 'Luggage': 5,\n",
       " 'longlines': 6}"
      ]
     },
     "execution_count": 1331,
     "metadata": {},
     "output_type": "execute_result"
    }
   ],
   "source": [
    "#airline_tweets_negative = airline_tweets_negative[airline_tweets_negative['negative_reason']!=\"Can't Tell\"]\n",
    "#group 'Lost Luggage' and 'Damaged Luggage' into 'Luggage'\n",
    "airline_tweets_negative['negative_reason'] =np.where(airline_tweets_negative['negative_reason'] =='Damaged Luggage', 'Luggage', airline_tweets_negative['negative_reason'])\n",
    "airline_tweets_negative['negative_reason'] =np.where(airline_tweets_negative['negative_reason'] =='Lost Luggage', 'Luggage', airline_tweets_negative['negative_reason'])\n",
    "airline_tweets_negative['negative_reason'] =np.where(airline_tweets_negative['negative_reason'] =='Bad Flight', 'Flight_Problem', airline_tweets_negative['negative_reason'])\n",
    "airline_tweets_negative['negative_reason'] =np.where(airline_tweets_negative['negative_reason'] =='Cancelled Flight', 'Flight_Problem', airline_tweets_negative['negative_reason'])\n",
    "airline_tweets_negative['negative_reason'] =np.where(airline_tweets_negative['negative_reason'] =='Late Flight', 'Flight_Problem', airline_tweets_negative['negative_reason'])\n",
    "#Transform all the negative reasons into numeric values\n",
    "nle = LabelEncoder()\n",
    "nreason_labels = nle.fit_transform(airline_tweets_negative['negative_reason'])\n",
    "nreason_mappings = {label: index for index, label in enumerate(nle.classes_)}\n",
    "airline_tweets_negative['negative_reason_n'] = airline_tweets_negative['negative_reason'].map(nreason_mappings)\n",
    "#airline_tweets_negative['negative_reason_n'] = pd.factorize(airline_tweets_negative['negative_reason'])[0]\n",
    "flight_attendant_complaints = airline_tweets_negative[airline_tweets_negative['negative_reason'] == 'Flight Attendant Complaints']\n",
    "negative_reason = pd.DataFrame([airline_tweets_negative['negative_reason'].unique(), airline_tweets_negative['negative_reason_n'].unique()])\n",
    "airline_tweets_negative.head(100)\n",
    "airline_tweets_negative.head()\n",
    "nreason_mappings"
   ]
  },
  {
   "cell_type": "code",
   "execution_count": 1332,
   "metadata": {},
   "outputs": [
    {
     "name": "stderr",
     "output_type": "stream",
     "text": [
      "/Users/zhangbeini/anaconda/lib/python3.6/site-packages/ipykernel_launcher.py:3: SettingWithCopyWarning: \n",
      "A value is trying to be set on a copy of a slice from a DataFrame.\n",
      "Try using .loc[row_indexer,col_indexer] = value instead\n",
      "\n",
      "See the caveats in the documentation: http://pandas.pydata.org/pandas-docs/stable/indexing.html#indexing-view-versus-copy\n",
      "  This is separate from the ipykernel package so we can avoid doing imports until\n"
     ]
    },
    {
     "data": {
      "text/html": [
       "<div>\n",
       "<style scoped>\n",
       "    .dataframe tbody tr th:only-of-type {\n",
       "        vertical-align: middle;\n",
       "    }\n",
       "\n",
       "    .dataframe tbody tr th {\n",
       "        vertical-align: top;\n",
       "    }\n",
       "\n",
       "    .dataframe thead th {\n",
       "        text-align: right;\n",
       "    }\n",
       "</style>\n",
       "<table border=\"1\" class=\"dataframe\">\n",
       "  <thead>\n",
       "    <tr style=\"text-align: right;\">\n",
       "      <th></th>\n",
       "      <th>sentiment</th>\n",
       "      <th>negative_reason</th>\n",
       "      <th>text</th>\n",
       "      <th>sentiment_pred_s_lr</th>\n",
       "      <th>sentiment_pred_s_nb</th>\n",
       "      <th>sentiment_s</th>\n",
       "      <th>negative_reason_n</th>\n",
       "      <th>text1</th>\n",
       "    </tr>\n",
       "  </thead>\n",
       "  <tbody>\n",
       "    <tr>\n",
       "      <th>1</th>\n",
       "      <td>negative</td>\n",
       "      <td>Flight_Problem</td>\n",
       "      <td>@virginamerica really aggressive blast obnoxious  entertainment  guests' faces &amp; little recourse</td>\n",
       "      <td>1</td>\n",
       "      <td>1</td>\n",
       "      <td>0</td>\n",
       "      <td>4</td>\n",
       "      <td>@virginamerica realli aggress blast obnoxi  entertain  guests' face &amp; littl recours</td>\n",
       "    </tr>\n",
       "    <tr>\n",
       "      <th>2</th>\n",
       "      <td>negative</td>\n",
       "      <td>Can't Tell</td>\n",
       "      <td>@virginamerica really big bad thing</td>\n",
       "      <td>0</td>\n",
       "      <td>0</td>\n",
       "      <td>0</td>\n",
       "      <td>0</td>\n",
       "      <td>@virginamerica realli big bad thing</td>\n",
       "    </tr>\n",
       "    <tr>\n",
       "      <th>3</th>\n",
       "      <td>negative</td>\n",
       "      <td>Can't Tell</td>\n",
       "      <td>@virginamerica seriously would pay $30 flight seats playing  really bad thing flying va</td>\n",
       "      <td>0</td>\n",
       "      <td>0</td>\n",
       "      <td>0</td>\n",
       "      <td>0</td>\n",
       "      <td>@virginamerica serious would pay $30 flight seat play  realli bad thing fli va</td>\n",
       "    </tr>\n",
       "    <tr>\n",
       "      <th>11</th>\n",
       "      <td>negative</td>\n",
       "      <td>Flight_Problem</td>\n",
       "      <td>@virginamerica sfo pdx schedule still mia</td>\n",
       "      <td>0</td>\n",
       "      <td>0</td>\n",
       "      <td>0</td>\n",
       "      <td>4</td>\n",
       "      <td>@virginamerica sfo pdx schedul still mia</td>\n",
       "    </tr>\n",
       "    <tr>\n",
       "      <th>13</th>\n",
       "      <td>negative</td>\n",
       "      <td>Flight_Problem</td>\n",
       "      <td>@virginamerica  flew nyc sfo last week fully sit seat due two large gentleman either side  help</td>\n",
       "      <td>0</td>\n",
       "      <td>0</td>\n",
       "      <td>0</td>\n",
       "      <td>4</td>\n",
       "      <td>@virginamerica  flew nyc sfo last week fulli sit seat due two larg gentleman either side  help</td>\n",
       "    </tr>\n",
       "  </tbody>\n",
       "</table>\n",
       "</div>"
      ],
      "text/plain": [
       "   sentiment negative_reason                                                                                              text  sentiment_pred_s_lr  sentiment_pred_s_nb  sentiment_s  negative_reason_n                                                                                            text1\n",
       "1   negative  Flight_Problem  @virginamerica really aggressive blast obnoxious  entertainment  guests' faces & little recourse  1                    1                    0            4                  @virginamerica realli aggress blast obnoxi  entertain  guests' face & littl recours            \n",
       "2   negative  Can't Tell      @virginamerica really big bad thing                                                               0                    0                    0            0                  @virginamerica realli big bad thing                                                            \n",
       "3   negative  Can't Tell      @virginamerica seriously would pay $30 flight seats playing  really bad thing flying va           0                    0                    0            0                  @virginamerica serious would pay $30 flight seat play  realli bad thing fli va                 \n",
       "11  negative  Flight_Problem  @virginamerica sfo pdx schedule still mia                                                         0                    0                    0            4                  @virginamerica sfo pdx schedul still mia                                                       \n",
       "13  negative  Flight_Problem  @virginamerica  flew nyc sfo last week fully sit seat due two large gentleman either side  help   0                    0                    0            4                  @virginamerica  flew nyc sfo last week fulli sit seat due two larg gentleman either side  help "
      ]
     },
     "execution_count": 1332,
     "metadata": {},
     "output_type": "execute_result"
    }
   ],
   "source": [
    "#Word stemming to avoid the situation such as transforming luggages and luggage into two different features.\n",
    "stemmer =PorterStemmer()\n",
    "airline_tweets_negative['text1'] = airline_tweets_negative['text'].apply(lambda x: ' '.join([stemmer.stem(word) for word in re.split('\\s',x)]))\n",
    "airline_tweets_negative.head()"
   ]
  },
  {
   "cell_type": "code",
   "execution_count": 1334,
   "metadata": {},
   "outputs": [
    {
     "name": "stdout",
     "output_type": "stream",
     "text": [
      "Multinomial Logistic Regression training accuracy: 0.793275217933\n",
      "Multinomial Logistic Regression test accuracy    : 0.656499636892\n",
      "Naive Bayes training accuracy: 0.620330012453\n",
      "Naive Bayes test accuracy    : 0.549382716049\n",
      "Smallest Coefs:\n",
      "['delay' 'bag' 'hour' 'servic' 'hold' 'flight' 'wait' 'luggag' 'cancel' 'staff']\n",
      "\n",
      "Largest Coefs: \n",
      "['airlin' 'unit' 'jetblu' 'americanair' 'usairway' 'southwestair' 'worst' 'hate' 'money' 'fuck']\n"
     ]
    }
   ],
   "source": [
    "X1 = airline_tweets_negative['text1']\n",
    "y1 = airline_tweets_negative['negative_reason_n'] \n",
    "X1_train, X1_test, y1_train, y1_test = train_test_split(X1, y1, test_size = 0.3, random_state = 21)\n",
    "#count_vectorizer = CountVectorizer(stop_words = 'english')\n",
    "#count_train = count_vectorizer.fit_transform(X_train.values)\n",
    "#count_test = count_vectorizer.transform(X_test.values)\n",
    "tfidf_vectorizer = TfidfVectorizer()\n",
    "tfidf_train_1 = tfidf_vectorizer.fit_transform(X1_train.values)\n",
    "feature_names = np.array(tfidf_vectorizer.get_feature_names())\n",
    "tfidf_test_1 = tfidf_vectorizer.transform(X1_test.values)\n",
    "lr_mn = LogisticRegression(multi_class=\"multinomial\", solver = 'lbfgs')\n",
    "lr_mn.fit(tfidf_train_1, y1_train)\n",
    "y_pred_lr_mn = lr_mn.predict(tfidf_test_1)\n",
    "nb_mn.fit(tfidf_train_1, y1_train)\n",
    "y_pred_nb_mn = nb_mn.predict(tfidf_test_1)\n",
    "print(\"Multinomial Logistic Regression training accuracy:\", lr_mn.score(tfidf_train_1, y1_train))\n",
    "print(\"Multinomial Logistic Regression test accuracy    :\", lr_mn.score(tfidf_test_1, y1_test))\n",
    "print(\"Naive Bayes training accuracy:\", nb_mn.score(tfidf_train_1, y1_train))\n",
    "print(\"Naive Bayes test accuracy    :\", nb_mn.score(tfidf_test_1, y1_test))\n",
    "# Get the indices of the sorted cofficients\n",
    "sorted_coef_index = lr_mn.coef_[0].argsort()\n",
    "print('Smallest Coefs:\\n{}\\n'.format(feature_names[sorted_coef_index[:10]]))\n",
    "print('Largest Coefs: \\n{}'.format(feature_names[sorted_coef_index[:-11:-1]]))"
   ]
  },
  {
   "cell_type": "markdown",
   "metadata": {},
   "source": [
    "#### As can be seen from the accuracy scores, multinomial logistic regression classifiers outperform naives bayes classifiers when come to multiclass probem."
   ]
  },
  {
   "cell_type": "code",
   "execution_count": 1337,
   "metadata": {},
   "outputs": [
    {
     "data": {
      "image/png": "[encoded data removed]",
      "text/plain": [
       "<Figure size 504x216 with 1 Axes>"
      ]
     },
     "metadata": {},
     "output_type": "display_data"
    }
   ],
   "source": [
    "#potential bonus: tuning the hyperparameters\n",
    "training_err = []\n",
    "testing_err = []\n",
    "C_param_range = [0.001,0.01,0.1,1,10,100]\n",
    "for i in C_param_range:\n",
    "    # Apply logistic regression model to training data\n",
    "    lr_mn = LogisticRegression(multi_class=\"multinomial\", solver = 'lbfgs', C = i, random_state = 0)\n",
    "    lr_mn.fit(tfidf_train_1,y1_train)\n",
    "    # Predict using model\n",
    "    pred = lr_mn.predict(tfidf_test_1)\n",
    "    # Evaluate error rates and append to lists\n",
    "    training_err.append(1.0 - lr_mn.score(tfidf_train_1,y1_train))\n",
    "    testing_err.append(1.0 - lr_mn.score(tfidf_test_1,y1_test))  \n",
    "# Plot results\n",
    "fig, ax = plt.subplots(figsize=(7,3))\n",
    "plt.semilogx(C_param_range, training_err, C_param_range, testing_err)\n",
    "ax.set_title('Figure 4.1. Classification Error with Changing Inverse Regularization Strength ')\n",
    "ax.set_xlabel('C value (Inverse Regularization Strength)')\n",
    "ax.set_ylabel('Classification Error')\n",
    "ax.legend((\"train\", \"validation\"))\n",
    "plt.show()"
   ]
  },
  {
   "cell_type": "code",
   "execution_count": null,
   "metadata": {
    "collapsed": true
   },
   "outputs": [],
   "source": [
    "#Investigate how the model misclassify the negative reasons."
   ]
  },
  {
   "cell_type": "code",
   "execution_count": 1341,
   "metadata": {
    "collapsed": true
   },
   "outputs": [],
   "source": [
    "test_set = pd.DataFrame([X1_test,y1_test, y_pred_lr_mn], index = ['text','reason','pred']).T"
   ]
  },
  {
   "cell_type": "code",
   "execution_count": 1342,
   "metadata": {},
   "outputs": [
    {
     "data": {
      "text/html": [
       "<div>\n",
       "<style scoped>\n",
       "    .dataframe tbody tr th:only-of-type {\n",
       "        vertical-align: middle;\n",
       "    }\n",
       "\n",
       "    .dataframe tbody tr th {\n",
       "        vertical-align: top;\n",
       "    }\n",
       "\n",
       "    .dataframe thead th {\n",
       "        text-align: right;\n",
       "    }\n",
       "</style>\n",
       "<table border=\"1\" class=\"dataframe\">\n",
       "  <thead>\n",
       "    <tr style=\"text-align: right;\">\n",
       "      <th></th>\n",
       "      <th>text</th>\n",
       "      <th>reason</th>\n",
       "      <th>pred</th>\n",
       "    </tr>\n",
       "  </thead>\n",
       "  <tbody>\n",
       "    <tr>\n",
       "      <th>1040</th>\n",
       "      <td>@unit ye   head de ice 5 minut sent   made austin  wait luggag</td>\n",
       "      <td>0</td>\n",
       "      <td>5</td>\n",
       "    </tr>\n",
       "    <tr>\n",
       "      <th>2053</th>\n",
       "      <td>@unit @danahajek   united' ceo decid outsourc push skill loyal employe  lack staff</td>\n",
       "      <td>1</td>\n",
       "      <td>5</td>\n",
       "    </tr>\n",
       "    <tr>\n",
       "      <th>1029</th>\n",
       "      <td>@unit coach interior ua 992 look like salvag 80  tini unus video  power &amp; lifevest floor #ua992</td>\n",
       "      <td>4</td>\n",
       "      <td>5</td>\n",
       "    </tr>\n",
       "    <tr>\n",
       "      <th>347</th>\n",
       "      <td>@unit car seat lost @unit reimburs new one  pair shoe  necess child</td>\n",
       "      <td>5</td>\n",
       "      <td>5</td>\n",
       "    </tr>\n",
       "    <tr>\n",
       "      <th>1943</th>\n",
       "      <td>@unit bum lose biggest bag flight</td>\n",
       "      <td>5</td>\n",
       "      <td>5</td>\n",
       "    </tr>\n",
       "  </tbody>\n",
       "</table>\n",
       "</div>"
      ],
      "text/plain": [
       "                                                                                                  text reason pred\n",
       "1040  @unit ye   head de ice 5 minut sent   made austin  wait luggag                                    0      5  \n",
       "2053  @unit @danahajek   united' ceo decid outsourc push skill loyal employe  lack staff                1      5  \n",
       "1029  @unit coach interior ua 992 look like salvag 80  tini unus video  power & lifevest floor #ua992   4      5  \n",
       "347   @unit car seat lost @unit reimburs new one  pair shoe  necess child                               5      5  \n",
       "1943  @unit bum lose biggest bag flight                                                                 5      5  "
      ]
     },
     "execution_count": 1342,
     "metadata": {},
     "output_type": "execute_result"
    }
   ],
   "source": [
    "#Extract some data where the model predicted the reason as 5, Luggage Problem\n",
    "test_set_p0 = test_set[test_set['pred'] == 5]\n",
    "test_set_p0.tail()"
   ]
  },
  {
   "cell_type": "code",
   "execution_count": 856,
   "metadata": {},
   "outputs": [
    {
     "name": "stdout",
     "output_type": "stream",
     "text": [
      "0.671255736337\n"
     ]
    }
   ],
   "source": [
    "score = metrics.accuracy_score(pred, y_test)\n",
    "print(score)"
   ]
  },
  {
   "cell_type": "markdown",
   "metadata": {},
   "source": [
    "# 5. Discussion"
   ]
  },
  {
   "cell_type": "markdown",
   "metadata": {},
   "source": [
    "### Answer the research question stated above based on the outputs of your first model. Describe the results of the analysis and discuss your interpretation of the results. Explain how each airline is viewed in the public eye based on the sentiment value. For the second model, provide a few reasons why your model failed to predict the correct negative reasons. Back up your reasoning with examples from the test sets. For both models, suggest one way you can improve the accuracy of your models?"
   ]
  },
  {
   "cell_type": "markdown",
   "metadata": {},
   "source": [
    "##### 1. From Figure 2.2 created in the exploratory analysis part, we can see that the public are quite dissatisfied with all of the three airlines. Virgin has a relatively higher reputation based on the percentage of positive sentiment. But it seems to have a lower market share based on the number of tweets the public posted. Although United Airlines got a lot of bad reviews, it seems that many people still choose to fly with them somehow. Regarding the negative reasons, as shown in Figure 2.3, the public was complaining about the customer service problem the most. And late flights were also significant problems. The logistic regression model obtained from training the generic tweets were used to predict the sentiment of the tweets associated with US airlines. The model performed well enough, getting an accuracy score of 0.76. Hope all the airlines can use some machine learning methods to learn the opion of the public and be able to introspect. They need to pay more attention to customer service and improve the publib image. \n",
    "\n",
    "##### 2. For the first model, since the US airlines tweets had much more negative sentiment tweets than positive sentiment tweets, there might be class imbalance problem. To alleviate the class imbalance problem, we may reset the class_weight parameter inside the model. For the second model, since most of the words only appear once in the text and some of the reasons such as bad flight are very generic on its own, so it's very easy to be misclassified. For example, the tweet '@united after a Cancelled Flighted flight, and 2 delays, you lost my luggage AGAIN! You're the WORST! Disgraceful! Awful company, horrible service!' reflected a Lost Luggage scenario and the model misclassified it as a \"Flight Problem\". Since the tweet also mentioned \"Cancelled Flight\" and used many negative words, it's very hard for the algorithm to obtain a correct prediction. Another example is tweet \"Yes I did.  We headed out to de-ice 5 minutes after I sent it to you.  Made it to Austin, but am now waiting for the luggage.\" The negative reason of this tweet is \"Can't Tell\" while it quite makes sense that the model predicted a \"Luggage Problem\" since  the word \"luggage\" appeared. To improve the performance of the second model, we can use one-hot encoding instead of the traditional label encoding since the numeric values assigned to different reasons may be misinterpreted by the algorithm. Also, since the boundary between some of the features is very vague, we can try more advanced classifiers such random forest.\n",
    "\n",
    "##### 3. To compare the performance of different classifiers, I also implemented a Naive Bayes model. For the binary classification problem, the two classification methods performed similarly enough. The Navie Bayes model even outperformed the Logistic Regression slightly. However, when the problem comes to multiclass classification, Logistic Regression gained a higher accuracy score. The reason behind that may be the strong independence assumption between features in Navies Bayes algorithm. In natural language processing, it is not a good idea to assume the features are independent from each other. I also ran a test on different vectorization methods. There is no significant difference between countvectorizer and tfidfvectorizer for this specific dataset. To investigate the effect of tuning hyperparameters values, I visualized the error with changing C values using plot. As can be seen from Figure 4.1, the choice of C values (inverse regularization strength) had a significant impact on  the performance of the model.\n",
    "\n",
    "##### 4. More exploratory analysis. \n",
    "###### a. I tried to figure out when is the busiest time on Twitter. By summing up the number of tweets posted very two hours, I found out that Twitter seems to be more active during the night time. However, the conclusion may not be precise since there is possibility that the data is not complete as the figure showed that no tweets were posted during at noontime which is not possible. The detailed result is shown in Figure 2.4.\n",
    "###### b. I also had a look at the common length of the posted tweets. Most of the tweets were around 30 letters. The detailed distribution can be seen in Figure 2.5."
   ]
  }
 ],
 "metadata": {
  "kernelspec": {
   "display_name": "Python 3",
   "language": "python",
   "name": "python3"
  },
  "language_info": {
   "codemirror_mode": {
    "name": "ipython",
    "version": 3
   },
   "file_extension": ".py",
   "mimetype": "text/x-python",
   "name": "python",
   "nbconvert_exporter": "python",
   "pygments_lexer": "ipython3",
   "version": "3.6.6"
  }
 },
 "nbformat": 4,
 "nbformat_minor": 2
}
